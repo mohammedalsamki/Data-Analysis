{
 "cells": [
  {
   "cell_type": "markdown",
   "source": [
    "# Lab 12: Data Analysis. Part 2\n",
    "## bike-stats dataset (including station,weather,trip datasets)\n",
    "## Date : 15/11/2021"
   ],
   "metadata": {}
  },
  {
   "cell_type": "code",
   "execution_count": 1,
   "source": [
    "## adding necessary lines\n",
    "import pandas as pd\n",
    "import numpy as np\n",
    "import datetime as dt"
   ],
   "outputs": [],
   "metadata": {}
  },
  {
   "cell_type": "markdown",
   "source": [
    "## What is the average trip duration for a borrowed bicycle?\n"
   ],
   "metadata": {}
  },
  {
   "cell_type": "code",
   "execution_count": 2,
   "source": [
    "station=pd.read_csv('station.csv')\n",
    "trip=pd.read_csv('trip.csv',error_bad_lines=False)\n",
    "weather=pd.read_csv('weather.csv')\n",
    "sol=trip['tripduration'].mean()\n",
    "sol"
   ],
   "outputs": [
    {
     "output_type": "stream",
     "name": "stderr",
     "text": [
      "b'Skipping line 50794: expected 12 fields, saw 20\\n'\n"
     ]
    },
    {
     "output_type": "execute_result",
     "data": {
      "text/plain": [
       "1178.2956753399696"
      ]
     },
     "metadata": {},
     "execution_count": 2
    }
   ],
   "metadata": {}
  },
  {
   "cell_type": "markdown",
   "source": [
    "## What's the most common age of bicycle-sharer?"
   ],
   "metadata": {}
  },
  {
   "cell_type": "code",
   "execution_count": 5,
   "source": [
    "trip=pd.read_csv('trip.csv',error_bad_lines=False)\n",
    "ages=dt.datetime.now().year - trip['birthyear'].value_counts().idxmax()\n",
    "ages"
   ],
   "outputs": [
    {
     "output_type": "stream",
     "name": "stderr",
     "text": [
      "b'Skipping line 50794: expected 12 fields, saw 20\\n'\n"
     ]
    },
    {
     "output_type": "execute_result",
     "data": {
      "text/plain": [
       "34.0"
      ]
     },
     "metadata": {},
     "execution_count": 5
    }
   ],
   "metadata": {}
  },
  {
   "cell_type": "markdown",
   "source": [
    "## other solution\n"
   ],
   "metadata": {}
  },
  {
   "cell_type": "code",
   "execution_count": 6,
   "source": [
    "year = trip[['birthyear']].mode()\n",
    "2020 - year"
   ],
   "outputs": [
    {
     "output_type": "execute_result",
     "data": {
      "text/html": [
       "<div>\n",
       "<style scoped>\n",
       "    .dataframe tbody tr th:only-of-type {\n",
       "        vertical-align: middle;\n",
       "    }\n",
       "\n",
       "    .dataframe tbody tr th {\n",
       "        vertical-align: top;\n",
       "    }\n",
       "\n",
       "    .dataframe thead th {\n",
       "        text-align: right;\n",
       "    }\n",
       "</style>\n",
       "<table border=\"1\" class=\"dataframe\">\n",
       "  <thead>\n",
       "    <tr style=\"text-align: right;\">\n",
       "      <th></th>\n",
       "      <th>birthyear</th>\n",
       "    </tr>\n",
       "  </thead>\n",
       "  <tbody>\n",
       "    <tr>\n",
       "      <th>0</th>\n",
       "      <td>33.0</td>\n",
       "    </tr>\n",
       "  </tbody>\n",
       "</table>\n",
       "</div>"
      ],
      "text/plain": [
       "   birthyear\n",
       "0       33.0"
      ]
     },
     "metadata": {},
     "execution_count": 6
    }
   ],
   "metadata": {}
  },
  {
   "cell_type": "markdown",
   "source": [
    "## Given all the weather data here, find the average precipitation per month, and the median precipitation."
   ],
   "metadata": {}
  },
  {
   "cell_type": "code",
   "execution_count": 12,
   "source": [
    "avg_precipitation=weather.groupby('Date')['Precipitation_In']\n",
    "avg_precipitation.mean()"
   ],
   "outputs": [
    {
     "output_type": "execute_result",
     "data": {
      "text/plain": [
       "Date\n",
       "1/1/2015     0.00\n",
       "1/1/2016     0.00\n",
       "1/10/2015    0.18\n",
       "1/10/2016    0.00\n",
       "1/11/2015    0.06\n",
       "             ... \n",
       "9/5/2015     0.06\n",
       "9/6/2015     0.19\n",
       "9/7/2015     0.00\n",
       "9/8/2015     0.00\n",
       "9/9/2015     0.00\n",
       "Name: Precipitation_In, Length: 689, dtype: float64"
      ]
     },
     "metadata": {},
     "execution_count": 12
    }
   ],
   "metadata": {}
  },
  {
   "cell_type": "code",
   "execution_count": 13,
   "source": [
    "avg_precipitation.median()\n"
   ],
   "outputs": [
    {
     "output_type": "execute_result",
     "data": {
      "text/plain": [
       "Date\n",
       "1/1/2015     0.00\n",
       "1/1/2016     0.00\n",
       "1/10/2015    0.18\n",
       "1/10/2016    0.00\n",
       "1/11/2015    0.06\n",
       "             ... \n",
       "9/5/2015     0.06\n",
       "9/6/2015     0.19\n",
       "9/7/2015     0.00\n",
       "9/8/2015     0.00\n",
       "9/9/2015     0.00\n",
       "Name: Precipitation_In, Length: 689, dtype: float64"
      ]
     },
     "metadata": {},
     "execution_count": 13
    }
   ],
   "metadata": {}
  },
  {
   "cell_type": "markdown",
   "source": [
    "## What’s the average number of bikes at a given bike station?\n"
   ],
   "metadata": {}
  },
  {
   "cell_type": "code",
   "execution_count": 14,
   "source": [
    "dock_count=station[station['decommission_date'].notnull()]\n",
    "all=station[station['decommission_date'].isnull()]\n",
    "avg_bike_num=all.mean()\n",
    "avg_bike_num=avg_bike_num.current_dockcount\n",
    "avg_bike_num"
   ],
   "outputs": [
    {
     "output_type": "execute_result",
     "data": {
      "text/plain": [
       "17.74074074074074"
      ]
     },
     "metadata": {},
     "execution_count": 14
    }
   ],
   "metadata": {}
  },
  {
   "cell_type": "markdown",
   "source": [
    "## When a bike station is modified, is it more likely that it’ll lose bikes or gain bikes? How do you know?"
   ],
   "metadata": {}
  },
  {
   "cell_type": "code",
   "execution_count": 15,
   "source": [
    "stat=station[['modification_date','install_dockcount','current_dockcount']].dropna()\n",
    "solution=stat['current_dockcount'].sum()-stat['install_dockcount'].sum()\n",
    "solution"
   ],
   "outputs": [
    {
     "output_type": "execute_result",
     "data": {
      "text/plain": [
       "-64"
      ]
     },
     "metadata": {},
     "execution_count": 15
    }
   ],
   "metadata": {}
  },
  {
   "cell_type": "markdown",
   "source": [
    "## 3 Questions from us\n",
    "## What is the most common starting station?"
   ],
   "metadata": {}
  },
  {
   "cell_type": "code",
   "execution_count": 16,
   "source": [
    "stations = trip.from_station_name.groupby(trip.from_station_name)\n",
    "highest_station = stations.count().nlargest(1)\n",
    "highest_station"
   ],
   "outputs": [
    {
     "output_type": "execute_result",
     "data": {
      "text/plain": [
       "from_station_name\n",
       "Pier 69 / Alaskan Way & Clay St    13054\n",
       "Name: from_station_name, dtype: int64"
      ]
     },
     "metadata": {},
     "execution_count": 16
    }
   ],
   "metadata": {}
  },
  {
   "cell_type": "markdown",
   "source": [
    "## Which station has the most bikes?\n"
   ],
   "metadata": {}
  },
  {
   "cell_type": "code",
   "execution_count": 17,
   "source": [
    "station_bikes = station.sort_values(by='current_dockcount', ascending=False).head(1)\n",
    "station_bikes"
   ],
   "outputs": [
    {
     "output_type": "execute_result",
     "data": {
      "text/html": [
       "<div>\n",
       "<style scoped>\n",
       "    .dataframe tbody tr th:only-of-type {\n",
       "        vertical-align: middle;\n",
       "    }\n",
       "\n",
       "    .dataframe tbody tr th {\n",
       "        vertical-align: top;\n",
       "    }\n",
       "\n",
       "    .dataframe thead th {\n",
       "        text-align: right;\n",
       "    }\n",
       "</style>\n",
       "<table border=\"1\" class=\"dataframe\">\n",
       "  <thead>\n",
       "    <tr style=\"text-align: right;\">\n",
       "      <th></th>\n",
       "      <th>station_id</th>\n",
       "      <th>name</th>\n",
       "      <th>lat</th>\n",
       "      <th>long</th>\n",
       "      <th>install_date</th>\n",
       "      <th>install_dockcount</th>\n",
       "      <th>modification_date</th>\n",
       "      <th>current_dockcount</th>\n",
       "      <th>decommission_date</th>\n",
       "    </tr>\n",
       "  </thead>\n",
       "  <tbody>\n",
       "    <tr>\n",
       "      <th>17</th>\n",
       "      <td>CH-08</td>\n",
       "      <td>Cal Anderson Park / 11th Ave &amp; Pine St</td>\n",
       "      <td>47.615486</td>\n",
       "      <td>-122.318245</td>\n",
       "      <td>10/13/2014</td>\n",
       "      <td>28</td>\n",
       "      <td>2/24/2015</td>\n",
       "      <td>26</td>\n",
       "      <td>NaN</td>\n",
       "    </tr>\n",
       "  </tbody>\n",
       "</table>\n",
       "</div>"
      ],
      "text/plain": [
       "   station_id                                    name        lat        long  \\\n",
       "17      CH-08  Cal Anderson Park / 11th Ave & Pine St  47.615486 -122.318245   \n",
       "\n",
       "   install_date  install_dockcount modification_date  current_dockcount  \\\n",
       "17   10/13/2014                 28         2/24/2015                 26   \n",
       "\n",
       "   decommission_date  \n",
       "17               NaN  "
      ]
     },
     "metadata": {},
     "execution_count": 17
    }
   ],
   "metadata": {}
  },
  {
   "cell_type": "markdown",
   "source": [
    "What were the 5 longest trips?\n"
   ],
   "metadata": {}
  },
  {
   "cell_type": "code",
   "execution_count": 18,
   "source": [
    "longest_trips = trip.sort_values(by='tripduration', ascending=False).head(5)\n",
    "longest_trips"
   ],
   "outputs": [
    {
     "output_type": "execute_result",
     "data": {
      "text/html": [
       "<div>\n",
       "<style scoped>\n",
       "    .dataframe tbody tr th:only-of-type {\n",
       "        vertical-align: middle;\n",
       "    }\n",
       "\n",
       "    .dataframe tbody tr th {\n",
       "        vertical-align: top;\n",
       "    }\n",
       "\n",
       "    .dataframe thead th {\n",
       "        text-align: right;\n",
       "    }\n",
       "</style>\n",
       "<table border=\"1\" class=\"dataframe\">\n",
       "  <thead>\n",
       "    <tr style=\"text-align: right;\">\n",
       "      <th></th>\n",
       "      <th>trip_id</th>\n",
       "      <th>starttime</th>\n",
       "      <th>stoptime</th>\n",
       "      <th>bikeid</th>\n",
       "      <th>tripduration</th>\n",
       "      <th>from_station_name</th>\n",
       "      <th>to_station_name</th>\n",
       "      <th>from_station_id</th>\n",
       "      <th>to_station_id</th>\n",
       "      <th>usertype</th>\n",
       "      <th>gender</th>\n",
       "      <th>birthyear</th>\n",
       "    </tr>\n",
       "  </thead>\n",
       "  <tbody>\n",
       "    <tr>\n",
       "      <th>163148</th>\n",
       "      <td>124491</td>\n",
       "      <td>8/7/2015 17:53</td>\n",
       "      <td>8/8/2015 1:53</td>\n",
       "      <td>SEA00420</td>\n",
       "      <td>28794.398</td>\n",
       "      <td>Eastlake Ave E &amp; E Allison St</td>\n",
       "      <td>2nd Ave &amp; Pine St</td>\n",
       "      <td>EL-05</td>\n",
       "      <td>CBD-13</td>\n",
       "      <td>Short-Term Pass Holder</td>\n",
       "      <td>NaN</td>\n",
       "      <td>NaN</td>\n",
       "    </tr>\n",
       "    <tr>\n",
       "      <th>231806</th>\n",
       "      <td>197134</td>\n",
       "      <td>4/8/2016 14:25</td>\n",
       "      <td>4/8/2016 22:24</td>\n",
       "      <td>SEA00085</td>\n",
       "      <td>28779.864</td>\n",
       "      <td>3rd Ave &amp; Broad St</td>\n",
       "      <td>15th Ave E &amp; E Thomas St</td>\n",
       "      <td>BT-01</td>\n",
       "      <td>CH-05</td>\n",
       "      <td>Short-Term Pass Holder</td>\n",
       "      <td>NaN</td>\n",
       "      <td>NaN</td>\n",
       "    </tr>\n",
       "    <tr>\n",
       "      <th>154789</th>\n",
       "      <td>115593</td>\n",
       "      <td>7/24/2015 17:22</td>\n",
       "      <td>7/25/2015 1:21</td>\n",
       "      <td>SEA00098</td>\n",
       "      <td>28727.481</td>\n",
       "      <td>E Harrison St &amp; Broadway Ave E</td>\n",
       "      <td>E Harrison St &amp; Broadway Ave E</td>\n",
       "      <td>CH-02</td>\n",
       "      <td>CH-02</td>\n",
       "      <td>Short-Term Pass Holder</td>\n",
       "      <td>NaN</td>\n",
       "      <td>NaN</td>\n",
       "    </tr>\n",
       "    <tr>\n",
       "      <th>63052</th>\n",
       "      <td>15191</td>\n",
       "      <td>11/19/2014 9:23</td>\n",
       "      <td>11/19/2014 17:21</td>\n",
       "      <td>SEA00401</td>\n",
       "      <td>28690.725</td>\n",
       "      <td>Key Arena / 1st Ave N &amp; Harrison St</td>\n",
       "      <td>Key Arena / 1st Ave N &amp; Harrison St</td>\n",
       "      <td>SLU-19</td>\n",
       "      <td>SLU-19</td>\n",
       "      <td>Short-Term Pass Holder</td>\n",
       "      <td>NaN</td>\n",
       "      <td>NaN</td>\n",
       "    </tr>\n",
       "    <tr>\n",
       "      <th>12260</th>\n",
       "      <td>15191</td>\n",
       "      <td>11/19/2014 9:23</td>\n",
       "      <td>11/19/2014 17:21</td>\n",
       "      <td>SEA00401</td>\n",
       "      <td>28690.725</td>\n",
       "      <td>Key Arena / 1st Ave N &amp; Harrison St</td>\n",
       "      <td>Key Arena / 1st Ave N &amp; Harrison St</td>\n",
       "      <td>SLU-19</td>\n",
       "      <td>SLU-19</td>\n",
       "      <td>Short-Term Pass Holder</td>\n",
       "      <td>NaN</td>\n",
       "      <td>NaN</td>\n",
       "    </tr>\n",
       "  </tbody>\n",
       "</table>\n",
       "</div>"
      ],
      "text/plain": [
       "        trip_id        starttime          stoptime    bikeid  tripduration  \\\n",
       "163148   124491   8/7/2015 17:53     8/8/2015 1:53  SEA00420     28794.398   \n",
       "231806   197134   4/8/2016 14:25    4/8/2016 22:24  SEA00085     28779.864   \n",
       "154789   115593  7/24/2015 17:22    7/25/2015 1:21  SEA00098     28727.481   \n",
       "63052     15191  11/19/2014 9:23  11/19/2014 17:21  SEA00401     28690.725   \n",
       "12260     15191  11/19/2014 9:23  11/19/2014 17:21  SEA00401     28690.725   \n",
       "\n",
       "                          from_station_name  \\\n",
       "163148        Eastlake Ave E & E Allison St   \n",
       "231806                   3rd Ave & Broad St   \n",
       "154789       E Harrison St & Broadway Ave E   \n",
       "63052   Key Arena / 1st Ave N & Harrison St   \n",
       "12260   Key Arena / 1st Ave N & Harrison St   \n",
       "\n",
       "                            to_station_name from_station_id to_station_id  \\\n",
       "163148                    2nd Ave & Pine St           EL-05        CBD-13   \n",
       "231806             15th Ave E & E Thomas St           BT-01         CH-05   \n",
       "154789       E Harrison St & Broadway Ave E           CH-02         CH-02   \n",
       "63052   Key Arena / 1st Ave N & Harrison St          SLU-19        SLU-19   \n",
       "12260   Key Arena / 1st Ave N & Harrison St          SLU-19        SLU-19   \n",
       "\n",
       "                      usertype gender  birthyear  \n",
       "163148  Short-Term Pass Holder    NaN        NaN  \n",
       "231806  Short-Term Pass Holder    NaN        NaN  \n",
       "154789  Short-Term Pass Holder    NaN        NaN  \n",
       "63052   Short-Term Pass Holder    NaN        NaN  \n",
       "12260   Short-Term Pass Holder    NaN        NaN  "
      ]
     },
     "metadata": {},
     "execution_count": 18
    }
   ],
   "metadata": {}
  },
  {
   "cell_type": "markdown",
   "source": [
    "## Test our code :"
   ],
   "metadata": {}
  },
  {
   "cell_type": "code",
   "execution_count": 21,
   "source": [
    "def test():\n",
    "    \n",
    "    def assert_equal(actual,expected):\n",
    "        assert actual == expected, f\"Expected {expected} but got {actual}\"\n",
    "\n",
    "    assert_equal(sol , 1178.2956753399696 )\n",
    "    assert_equal(ages, 34.0)\n",
    "    assert_equal(avg_bike_num, 17.74074074074074)\n",
    "    assert_equal(solution, -64 )\n",
    "\n",
    "\n",
    "    print(\"Success!!!\")\n",
    "\n",
    "test()"
   ],
   "outputs": [
    {
     "output_type": "stream",
     "name": "stdout",
     "text": [
      "Success!!!\n"
     ]
    }
   ],
   "metadata": {}
  },
  {
   "cell_type": "code",
   "execution_count": null,
   "source": [],
   "outputs": [],
   "metadata": {}
  }
 ],
 "metadata": {
  "orig_nbformat": 4,
  "language_info": {
   "name": "python",
   "version": "3.9.8",
   "mimetype": "text/x-python",
   "codemirror_mode": {
    "name": "ipython",
    "version": 3
   },
   "pygments_lexer": "ipython3",
   "nbconvert_exporter": "python",
   "file_extension": ".py"
  },
  "kernelspec": {
   "name": "python3",
   "display_name": "Python 3.9.8 64-bit"
  },
  "interpreter": {
   "hash": "916dbcbb3f70747c44a77c7bcd40155683ae19c65e1c03b4aa3499c5328201f1"
  }
 },
 "nbformat": 4,
 "nbformat_minor": 2
}